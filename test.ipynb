{
 "cells": [
  {
   "cell_type": "code",
   "execution_count": null,
   "metadata": {},
   "outputs": [],
   "source": [
    "delay = 1\n",
    "num_samples = 8\n",
    "time_qubits = 3\n",
    "def how_many_dt_qubits(delay):\n",
    "    steps_bin = format(delay, 'b')\n",
    "    for i, bit in enumerate(steps_bin):\n",
    "            #print(i, bit)\n",
    "            if bit == '1':\n",
    "                 howmany=i+1\n",
    "    return howmany\n",
    "howmany = how_many_dt_qubits(delay)\n",
    "\n",
    "\n",
    "def delay_x_gates(delay, num_samples,time_qubits, howmany, time_delta, encoded_circuit):\n",
    "    if delay > num_samples/2:\n",
    "        raise ValueError(\"Number of steps too big\")\n",
    "    else:\n",
    "        delay_bin = format(delay, 'b') # convert delay to binary\n",
    "        delay_bin = '0'*(time_qubits-len(delay_bin)) + delay_bin # add zeros before the binary number if the number of bits is less than the number of qubits\n",
    "        for i, bit in enumerate(delay_bin):\n",
    "                #print(i, bit)\n",
    "                if bit == '1' and i<howmany:\n",
    "                    encoded_circuit.x(time_delta[time_qubits-i-1])\n",
    "delay_x_gates(delay, num_samples,time_qubits, howmany, time_delta, encoded_circuit)"
   ]
  }
 ],
 "metadata": {
  "kernelspec": {
   "display_name": "quantumaudio",
   "language": "python",
   "name": "python3"
  },
  "language_info": {
   "name": "python",
   "version": "3.9.16"
  }
 },
 "nbformat": 4,
 "nbformat_minor": 2
}
